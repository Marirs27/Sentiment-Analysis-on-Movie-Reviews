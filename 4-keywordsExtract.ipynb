{
 "metadata": {
  "language_info": {
   "codemirror_mode": {
    "name": "ipython",
    "version": 3
   },
   "file_extension": ".py",
   "mimetype": "text/x-python",
   "name": "python",
   "nbconvert_exporter": "python",
   "pygments_lexer": "ipython3",
   "version": "3.8.5"
  },
  "orig_nbformat": 2,
  "kernelspec": {
   "name": "python385jvsc74a57bd0e78eae5f061661f8a51779e13aa83c50ba012855e885b1d80efeb978842a267b",
   "display_name": "Python 3.8.5 64-bit ('base': conda)"
  }
 },
 "nbformat": 4,
 "nbformat_minor": 2,
 "cells": [
  {
   "cell_type": "code",
   "execution_count": 5,
   "metadata": {},
   "outputs": [
    {
     "output_type": "error",
     "ename": "ModuleNotFoundError",
     "evalue": "No module named 'pyprind'",
     "traceback": [
      "\u001b[1;31m---------------------------------------------------------------------------\u001b[0m",
      "\u001b[1;31mModuleNotFoundError\u001b[0m                       Traceback (most recent call last)",
      "\u001b[1;32m<ipython-input-5-4adb78ef911e>\u001b[0m in \u001b[0;36m<module>\u001b[1;34m\u001b[0m\n\u001b[0;32m      2\u001b[0m \u001b[1;32mimport\u001b[0m \u001b[0mnumpy\u001b[0m \u001b[1;32mas\u001b[0m \u001b[0mnp\u001b[0m\u001b[1;33m\u001b[0m\u001b[1;33m\u001b[0m\u001b[0m\n\u001b[0;32m      3\u001b[0m \u001b[1;32mimport\u001b[0m \u001b[0mos\u001b[0m\u001b[1;33m\u001b[0m\u001b[1;33m\u001b[0m\u001b[0m\n\u001b[1;32m----> 4\u001b[1;33m \u001b[1;32mimport\u001b[0m \u001b[0mpyprind\u001b[0m\u001b[1;33m\u001b[0m\u001b[1;33m\u001b[0m\u001b[0m\n\u001b[0m\u001b[0;32m      5\u001b[0m \u001b[1;32mimport\u001b[0m \u001b[0mmatplotlib\u001b[0m\u001b[1;33m.\u001b[0m\u001b[0mpyplot\u001b[0m \u001b[1;32mas\u001b[0m \u001b[0mplt\u001b[0m\u001b[1;33m\u001b[0m\u001b[1;33m\u001b[0m\u001b[0m\n\u001b[0;32m      6\u001b[0m \u001b[1;33m\u001b[0m\u001b[0m\n",
      "\u001b[1;31mModuleNotFoundError\u001b[0m: No module named 'pyprind'"
     ]
    }
   ],
   "source": [
    "import pandas as pd \n",
    "import numpy as np\n",
    "import os\n",
    "import pyprind\n",
    "import matplotlib.pyplot as plt\n",
    "\n",
    "# To change date to datetime\n",
    "from datetime import datetime\n",
    "import re \n",
    "\n",
    "from collections import Counter\n",
    "import string\n",
    "import scipy.sparse\n",
    "\n",
    "# Gensim libraries\n",
    "from gensim import corpora\n",
    "from gensim.models.ldamulticore import LdaMulticore\n",
    "from gensim.models import CoherenceModel\n",
    "from gensim import matutils"
   ]
  },
  {
   "cell_type": "code",
   "execution_count": 13,
   "metadata": {},
   "outputs": [
    {
     "output_type": "stream",
     "name": "stderr",
     "text": [
      "C:\\Users\\ADMIN\\anaconda3\\lib\\site-packages\\ipykernel\\ipkernel.py:287: DeprecationWarning: `should_run_async` will not call `transform_cell` automatically in the future. Please pass the result to `transformed_cell` argument and any exception that happen during thetransform in `preprocessing_exc_tuple` in IPython 7.17 and above.\n  and should_run_async(code)\n"
     ]
    }
   ],
   "source": [
    "import pyLDAvis"
   ]
  },
  {
   "source": [
    "## Read data and convert thr reviews to list"
   ],
   "cell_type": "markdown",
   "metadata": {}
  },
  {
   "cell_type": "code",
   "execution_count": 14,
   "metadata": {},
   "outputs": [
    {
     "output_type": "stream",
     "name": "stderr",
     "text": [
      "C:\\Users\\ADMIN\\anaconda3\\lib\\site-packages\\ipykernel\\ipkernel.py:287: DeprecationWarning: `should_run_async` will not call `transform_cell` automatically in the future. Please pass the result to `transformed_cell` argument and any exception that happen during thetransform in `preprocessing_exc_tuple` in IPython 7.17 and above.\n  and should_run_async(code)\n"
     ]
    },
    {
     "output_type": "execute_result",
     "data": {
      "text/plain": [
       "                                              review  sentiment  \\\n",
       "0  In 1974, the teenager Martha Moxley (Maggie Gr...          1   \n",
       "1  This is a terrible film. Angie Dickenson is a ...          0   \n",
       "2  This is supposed to be Charlie's masterpiece, ...          0   \n",
       "3  In order for a thriller to elicit fear, suspen...          0   \n",
       "4  The Perfect Son is a story about two 30-someth...          1   \n",
       "\n",
       "                                      processed_text  \n",
       "0   teenager martha moxley maggie grace move high...  \n",
       "1  terrible film angie dickenson class act always...  \n",
       "2  supposed charlies masterpiece contend actually...  \n",
       "3  order thriller elicit fear suspense emotion st...  \n",
       "4  perfect son story two something brother one se...  "
      ],
      "text/html": "<div>\n<style scoped>\n    .dataframe tbody tr th:only-of-type {\n        vertical-align: middle;\n    }\n\n    .dataframe tbody tr th {\n        vertical-align: top;\n    }\n\n    .dataframe thead th {\n        text-align: right;\n    }\n</style>\n<table border=\"1\" class=\"dataframe\">\n  <thead>\n    <tr style=\"text-align: right;\">\n      <th></th>\n      <th>review</th>\n      <th>sentiment</th>\n      <th>processed_text</th>\n    </tr>\n  </thead>\n  <tbody>\n    <tr>\n      <th>0</th>\n      <td>In 1974, the teenager Martha Moxley (Maggie Gr...</td>\n      <td>1</td>\n      <td>teenager martha moxley maggie grace move high...</td>\n    </tr>\n    <tr>\n      <th>1</th>\n      <td>This is a terrible film. Angie Dickenson is a ...</td>\n      <td>0</td>\n      <td>terrible film angie dickenson class act always...</td>\n    </tr>\n    <tr>\n      <th>2</th>\n      <td>This is supposed to be Charlie's masterpiece, ...</td>\n      <td>0</td>\n      <td>supposed charlies masterpiece contend actually...</td>\n    </tr>\n    <tr>\n      <th>3</th>\n      <td>In order for a thriller to elicit fear, suspen...</td>\n      <td>0</td>\n      <td>order thriller elicit fear suspense emotion st...</td>\n    </tr>\n    <tr>\n      <th>4</th>\n      <td>The Perfect Son is a story about two 30-someth...</td>\n      <td>1</td>\n      <td>perfect son story two something brother one se...</td>\n    </tr>\n  </tbody>\n</table>\n</div>"
     },
     "metadata": {},
     "execution_count": 14
    }
   ],
   "source": [
    "dataframe = pd.read_csv('clean_reviews.csv')\n",
    "dataframe.head()"
   ]
  },
  {
   "cell_type": "code",
   "execution_count": 15,
   "metadata": {},
   "outputs": [
    {
     "output_type": "stream",
     "name": "stderr",
     "text": [
      "C:\\Users\\ADMIN\\anaconda3\\lib\\site-packages\\ipykernel\\ipkernel.py:287: DeprecationWarning: `should_run_async` will not call `transform_cell` automatically in the future. Please pass the result to `transformed_cell` argument and any exception that happen during thetransform in `preprocessing_exc_tuple` in IPython 7.17 and above.\n  and should_run_async(code)\n"
     ]
    }
   ],
   "source": [
    "# Extract lematized words length not less than 2\n",
    "def minimize_review(text): # text\n",
    "    rev_text = ([token for token in text.split(' ') if len(token) > 3])\n",
    "    return rev_text"
   ]
  },
  {
   "cell_type": "code",
   "execution_count": 16,
   "metadata": {},
   "outputs": [
    {
     "output_type": "stream",
     "name": "stderr",
     "text": [
      "C:\\Users\\ADMIN\\anaconda3\\lib\\site-packages\\ipykernel\\ipkernel.py:287: DeprecationWarning: `should_run_async` will not call `transform_cell` automatically in the future. Please pass the result to `transformed_cell` argument and any exception that happen during thetransform in `preprocessing_exc_tuple` in IPython 7.17 and above.\n  and should_run_async(code)\n"
     ]
    },
    {
     "output_type": "execute_result",
     "data": {
      "text/plain": [
       "49999"
      ]
     },
     "metadata": {},
     "execution_count": 16
    }
   ],
   "source": [
    "clean_reviews = []\n",
    "for review in dataframe.processed_text:\n",
    "  clean_reviews.append(minimize_review(review))\n",
    "len(clean_reviews)"
   ]
  },
  {
   "cell_type": "code",
   "execution_count": 19,
   "metadata": {},
   "outputs": [
    {
     "output_type": "stream",
     "name": "stderr",
     "text": [
      "C:\\Users\\ADMIN\\anaconda3\\lib\\site-packages\\ipykernel\\ipkernel.py:287: DeprecationWarning: `should_run_async` will not call `transform_cell` automatically in the future. Please pass the result to `transformed_cell` argument and any exception that happen during thetransform in `preprocessing_exc_tuple` in IPython 7.17 and above.\n",
      "  and should_run_async(code)\n",
      "Wall time: 6min 42s\n"
     ]
    }
   ],
   "source": [
    "%%time\n",
    "# Create Dictionary\n",
    "id2word_1 = corpora.Dictionary(clean_reviews)\n",
    "# Create Corpus: Term Document Frequency\n",
    "corpus_1 = [id2word_1.doc2bow(review) for review in clean_reviews]\n",
    " # Build LDA model\n",
    "ldamodel = LdaMulticore(corpus= corpus_1, num_topics =8, id2word=id2word_1,chunksize=2000, passes=10,per_word_topics=True)"
   ]
  },
  {
   "cell_type": "code",
   "execution_count": 20,
   "metadata": {},
   "outputs": [
    {
     "output_type": "stream",
     "name": "stderr",
     "text": [
      "C:\\Users\\ADMIN\\anaconda3\\lib\\site-packages\\ipykernel\\ipkernel.py:287: DeprecationWarning: `should_run_async` will not call `transform_cell` automatically in the future. Please pass the result to `transformed_cell` argument and any exception that happen during thetransform in `preprocessing_exc_tuple` in IPython 7.17 and above.\n",
      "  and should_run_async(code)\n",
      "[(0,\n",
      "  [('film', 0.041057535),\n",
      "   ('movie', 0.011891212),\n",
      "   ('story', 0.007002972),\n",
      "   ('great', 0.00594792),\n",
      "   ('like', 0.0058649695),\n",
      "   ('character', 0.0058461796),\n",
      "   ('time', 0.005667807),\n",
      "   ('well', 0.005188769),\n",
      "   ('good', 0.0048797065),\n",
      "   ('performance', 0.004306048)]),\n",
      " (1,\n",
      "  [('show', 0.012091825),\n",
      "   ('film', 0.0072194836),\n",
      "   ('life', 0.006892898),\n",
      "   ('episode', 0.0054873885),\n",
      "   ('story', 0.0054774564),\n",
      "   ('series', 0.0050922595),\n",
      "   ('character', 0.0049469364),\n",
      "   ('love', 0.0048466558),\n",
      "   ('time', 0.004604958),\n",
      "   ('year', 0.0045240372)]),\n",
      " (2,\n",
      "  [('film', 0.006939157),\n",
      "   ('world', 0.0060838605),\n",
      "   ('people', 0.0060356734),\n",
      "   ('american', 0.0048749936),\n",
      "   ('documentary', 0.0044500525),\n",
      "   ('game', 0.0044245436),\n",
      "   ('would', 0.00381601),\n",
      "   ('soldier', 0.003754141),\n",
      "   ('time', 0.0036706955),\n",
      "   ('life', 0.0035263146)]),\n",
      " (3,\n",
      "  [('movie', 0.01077734),\n",
      "   ('character', 0.005742176),\n",
      "   ('woman', 0.0055376734),\n",
      "   ('film', 0.005109611),\n",
      "   ('scene', 0.003675156),\n",
      "   ('like', 0.003653537),\n",
      "   ('time', 0.0031516154),\n",
      "   ('take', 0.003137109),\n",
      "   ('even', 0.0030976452),\n",
      "   ('house', 0.0028272006)]),\n",
      " (4,\n",
      "  [('film', 0.016945688),\n",
      "   ('life', 0.0029786648),\n",
      "   ('time', 0.0029406734),\n",
      "   ('ford', 0.0029228048),\n",
      "   ('great', 0.0025669083),\n",
      "   ('character', 0.002533534),\n",
      "   ('work', 0.0024244306),\n",
      "   ('story', 0.002411146),\n",
      "   ('like', 0.002206095),\n",
      "   ('western', 0.002204364)]),\n",
      " (5,\n",
      "  [('film', 0.020879759),\n",
      "   ('movie', 0.010724187),\n",
      "   ('like', 0.008447464),\n",
      "   ('character', 0.0068972334),\n",
      "   ('scene', 0.006223632),\n",
      "   ('even', 0.005205088),\n",
      "   ('make', 0.0050247516),\n",
      "   ('much', 0.004695219),\n",
      "   ('would', 0.004468227),\n",
      "   ('time', 0.004275155)]),\n",
      " (6,\n",
      "  [('film', 0.008190319),\n",
      "   ('play', 0.00558869),\n",
      "   ('role', 0.0054437183),\n",
      "   ('performance', 0.004628228),\n",
      "   ('good', 0.0043738927),\n",
      "   ('story', 0.004143367),\n",
      "   ('character', 0.004135602),\n",
      "   ('scene', 0.0038531155),\n",
      "   ('movie', 0.003768013),\n",
      "   ('best', 0.0036632982)]),\n",
      " (7,\n",
      "  [('movie', 0.051878735),\n",
      "   ('like', 0.013796385),\n",
      "   ('good', 0.010358629),\n",
      "   ('time', 0.009055228),\n",
      "   ('really', 0.008588784),\n",
      "   ('even', 0.008045193),\n",
      "   ('would', 0.007861601),\n",
      "   ('film', 0.0068183243),\n",
      "   ('make', 0.006717463),\n",
      "   ('watch', 0.0065683336)])]\n"
     ]
    }
   ],
   "source": [
    "from pprint import pprint\n",
    "pprint(ldamodel.show_topics(formatted=False))"
   ]
  },
  {
   "cell_type": "code",
   "execution_count": 22,
   "metadata": {},
   "outputs": [
    {
     "output_type": "stream",
     "name": "stderr",
     "text": [
      "C:\\Users\\ADMIN\\anaconda3\\lib\\site-packages\\ipykernel\\ipkernel.py:287: DeprecationWarning: `should_run_async` will not call `transform_cell` automatically in the future. Please pass the result to `transformed_cell` argument and any exception that happen during thetransform in `preprocessing_exc_tuple` in IPython 7.17 and above.\n",
      "  and should_run_async(code)\n",
      "\n",
      "Perplexity:  -8.72404326244176\n",
      "\n",
      "Basic Ldamodel Coherence Score:  0.2981596615355011\n"
     ]
    }
   ],
   "source": [
    "# Compute Perplexity\n",
    "#It's a measure of how good the model is. The lower the better. Perplexity is a negative value\n",
    "print('\\nPerplexity: ', ldamodel.log_perplexity(corpus_1))  \n",
    "\n",
    "# Compute Coherence Score\n",
    "# The coherence score is used in assessing the quality of the learned topics, the closer to 1 the better\n",
    "coherence_model_lda = CoherenceModel(model=ldamodel, texts=clean_reviews, dictionary=id2word_1, coherence='c_v')\n",
    "coherence_lda = coherence_model_lda.get_coherence()\n",
    "print('\\nBasic Ldamodel Coherence Score: ', coherence_lda)"
   ]
  },
  {
   "source": [
    "## Choosing the optimal number of topics to optimize coherence"
   ],
   "cell_type": "markdown",
   "metadata": {}
  },
  {
   "cell_type": "code",
   "execution_count": null,
   "metadata": {},
   "outputs": [],
   "source": [
    "num_topics = []\n",
    "coherence = []\n",
    "for i in range(4,15,2):\n",
    "    ldamodel = LdaMulticore(corpus= corpus_1, num_topics =i, id2word=id2word_1,chunksize=2000, passes=30,per_word_topics=True)\n",
    "    coherence_model_lda = CoherenceModel(model=ldamodel, texts=clean_reviews, dictionary=id2word_1, coherence='c_v')\n",
    "    num_topics.append(i)\n",
    "    coherence.append(coherence_model_lda)\n"
   ]
  },
  {
   "cell_type": "code",
   "execution_count": null,
   "metadata": {},
   "outputs": [],
   "source": [
    "plt.plot(num_topics, coherence)\n",
    "plt.title(\"Coherence value score with the number of topics\")\n",
    "plt.xlabel(\"Number of Topics\")\n",
    "plt.ylabel(\"Coherence score\")\n",
    "plt.show()"
   ]
  }
 ]
}